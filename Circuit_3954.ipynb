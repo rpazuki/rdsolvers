{
 "cells": [
  {
   "cell_type": "markdown",
   "metadata": {},
   "source": [
    "The circuit topology:\n",
    "\n",
    "<img src=\"3954.png\" alt=\"Circuit 3954\" width=\"200\" />\n",
    "\n",
    "The circuit PDEs:\n",
    "\n",
    "$\n",
    "     \\frac{\\partial A}{\\partial t} = b_A  +   V_A  \\frac{1}{1+\\left(\\frac{K_{AA}}{A }\\right)^{n}} \\frac{1}{1+\\left(\\frac{B}{K_{BA} }\\right)^{n}} -  \\mu_A A + D_A \\nabla^2 A,\n",
    "$\n",
    "\n",
    "$     \\frac{\\partial B}{\\partial t} = b_B  +   V_B  \\frac{1}{1+\\left(\\frac{K_{AB}}{A }\\right)^{n}} \\frac{1}{1+\\left(\\frac{C}{K_{CB} }\\right)^{n}} -  \\mu_B B + D_B \\nabla^2 B,\n",
    "$\n",
    "\n",
    "$\n",
    "\\frac{\\partial C}{\\partial t} = b_C  +   V_C  \\frac{1}{1+\\left(\\frac{A}{K_{AC} }\\right)^{n}} \\frac{1}{1+\\left(\\frac{B}{K_{BC} }\\right)^{n}} \\frac{1}{1+\\left(\\frac{K_{CC}}{C }\\right)^{n}} -  \\mu_C C,\n",
    "$\n",
    "\n",
    "Where, kinetic terms are\n",
    "\n",
    "$f_A(A, B, C) = b_A  +   V_A  \\frac{1}{1+\\left(\\frac{K_{AA}}{A }\\right)^{n}} \\frac{1}{1+\\left(\\frac{B}{K_{BA} }\\right)^{n}} -  \\mu_A A$\n",
    "\n",
    "$f_B(A, B, C) = b_B  +   V_B  \\frac{1}{1+\\left(\\frac{K_{AB}}{A }\\right)^{n}} \\frac{1}{1+\\left(\\frac{C}{K_{CB} }\\right)^{n}} -  \\mu_B B$\n",
    "\n",
    "$f_C(A, B, C) = b_C  +   V_C  \\frac{1}{1+\\left(\\frac{A}{K_{AC} }\\right)^{n}} \\frac{1}{1+\\left(\\frac{B}{K_{BC} }\\right)^{n}} \\frac{1}{1+\\left(\\frac{K_{CC}}{C }\\right)^{n}} -  \\mu_C C$"
   ]
  },
  {
   "cell_type": "markdown",
   "metadata": {},
   "source": [
    "First, load the parameters"
   ]
  },
  {
   "cell_type": "code",
   "execution_count": 1,
   "metadata": {
    "ExecuteTime": {
     "end_time": "2024-01-17T13:12:07.494844Z",
     "start_time": "2024-01-17T13:12:06.680802Z"
    }
   },
   "outputs": [
    {
     "data": {
      "text/html": [
       "<div>\n",
       "<style scoped>\n",
       "    .dataframe tbody tr th:only-of-type {\n",
       "        vertical-align: middle;\n",
       "    }\n",
       "\n",
       "    .dataframe tbody tr th {\n",
       "        vertical-align: top;\n",
       "    }\n",
       "\n",
       "    .dataframe thead th {\n",
       "        text-align: right;\n",
       "    }\n",
       "</style>\n",
       "<table border=\"1\" class=\"dataframe\">\n",
       "  <thead>\n",
       "    <tr style=\"text-align: right;\">\n",
       "      <th></th>\n",
       "      <th>D_A</th>\n",
       "      <th>D_B</th>\n",
       "      <th>D_C</th>\n",
       "      <th>n</th>\n",
       "      <th>b_A</th>\n",
       "      <th>mu_A</th>\n",
       "      <th>V_A</th>\n",
       "      <th>K_AA</th>\n",
       "      <th>K_AB</th>\n",
       "      <th>K_AC</th>\n",
       "      <th>...</th>\n",
       "      <th>K_BA</th>\n",
       "      <th>K_BC</th>\n",
       "      <th>b_C</th>\n",
       "      <th>mu_C</th>\n",
       "      <th>V_C</th>\n",
       "      <th>K_CB</th>\n",
       "      <th>K_CC</th>\n",
       "      <th>A</th>\n",
       "      <th>B</th>\n",
       "      <th>C</th>\n",
       "    </tr>\n",
       "  </thead>\n",
       "  <tbody>\n",
       "    <tr>\n",
       "      <th>0</th>\n",
       "      <td>0.01</td>\n",
       "      <td>1.0</td>\n",
       "      <td>0.0</td>\n",
       "      <td>4.0</td>\n",
       "      <td>0.001</td>\n",
       "      <td>0.1</td>\n",
       "      <td>5.0</td>\n",
       "      <td>0.5</td>\n",
       "      <td>0.5</td>\n",
       "      <td>0.5</td>\n",
       "      <td>...</td>\n",
       "      <td>10.0</td>\n",
       "      <td>0.5</td>\n",
       "      <td>0.1</td>\n",
       "      <td>0.5</td>\n",
       "      <td>0.5</td>\n",
       "      <td>1.0</td>\n",
       "      <td>0.5</td>\n",
       "      <td>0.518949</td>\n",
       "      <td>26.823553</td>\n",
       "      <td>0.200000</td>\n",
       "    </tr>\n",
       "    <tr>\n",
       "      <th>1</th>\n",
       "      <td>0.01</td>\n",
       "      <td>1.0</td>\n",
       "      <td>0.0</td>\n",
       "      <td>4.0</td>\n",
       "      <td>0.001</td>\n",
       "      <td>0.1</td>\n",
       "      <td>5.0</td>\n",
       "      <td>0.5</td>\n",
       "      <td>1.0</td>\n",
       "      <td>0.5</td>\n",
       "      <td>...</td>\n",
       "      <td>0.5</td>\n",
       "      <td>0.5</td>\n",
       "      <td>20.0</td>\n",
       "      <td>100.0</td>\n",
       "      <td>100.0</td>\n",
       "      <td>10.0</td>\n",
       "      <td>0.5</td>\n",
       "      <td>0.403373</td>\n",
       "      <td>1.231664</td>\n",
       "      <td>0.200468</td>\n",
       "    </tr>\n",
       "    <tr>\n",
       "      <th>2</th>\n",
       "      <td>0.01</td>\n",
       "      <td>1.0</td>\n",
       "      <td>0.0</td>\n",
       "      <td>4.0</td>\n",
       "      <td>0.001</td>\n",
       "      <td>0.1</td>\n",
       "      <td>5.0</td>\n",
       "      <td>0.5</td>\n",
       "      <td>1.0</td>\n",
       "      <td>1.0</td>\n",
       "      <td>...</td>\n",
       "      <td>0.5</td>\n",
       "      <td>0.5</td>\n",
       "      <td>0.1</td>\n",
       "      <td>0.5</td>\n",
       "      <td>20.0</td>\n",
       "      <td>20.0</td>\n",
       "      <td>1.0</td>\n",
       "      <td>0.377202</td>\n",
       "      <td>1.192112</td>\n",
       "      <td>0.201954</td>\n",
       "    </tr>\n",
       "    <tr>\n",
       "      <th>3</th>\n",
       "      <td>0.01</td>\n",
       "      <td>1.0</td>\n",
       "      <td>0.0</td>\n",
       "      <td>4.0</td>\n",
       "      <td>0.001</td>\n",
       "      <td>0.1</td>\n",
       "      <td>5.0</td>\n",
       "      <td>0.5</td>\n",
       "      <td>1.0</td>\n",
       "      <td>1.0</td>\n",
       "      <td>...</td>\n",
       "      <td>1.0</td>\n",
       "      <td>0.5</td>\n",
       "      <td>0.1</td>\n",
       "      <td>0.5</td>\n",
       "      <td>10.0</td>\n",
       "      <td>5.0</td>\n",
       "      <td>1.0</td>\n",
       "      <td>0.388113</td>\n",
       "      <td>2.418637</td>\n",
       "      <td>0.200057</td>\n",
       "    </tr>\n",
       "    <tr>\n",
       "      <th>4</th>\n",
       "      <td>0.01</td>\n",
       "      <td>1.0</td>\n",
       "      <td>0.0</td>\n",
       "      <td>4.0</td>\n",
       "      <td>0.001</td>\n",
       "      <td>0.1</td>\n",
       "      <td>5.0</td>\n",
       "      <td>0.5</td>\n",
       "      <td>0.5</td>\n",
       "      <td>1.0</td>\n",
       "      <td>...</td>\n",
       "      <td>0.5</td>\n",
       "      <td>0.5</td>\n",
       "      <td>1.0</td>\n",
       "      <td>5.0</td>\n",
       "      <td>100.0</td>\n",
       "      <td>50.0</td>\n",
       "      <td>1.0</td>\n",
       "      <td>0.160812</td>\n",
       "      <td>0.629342</td>\n",
       "      <td>0.211336</td>\n",
       "    </tr>\n",
       "  </tbody>\n",
       "</table>\n",
       "<p>5 rows × 23 columns</p>\n",
       "</div>"
      ],
      "text/plain": [
       "    D_A  D_B  D_C    n    b_A  mu_A  V_A  K_AA  K_AB  K_AC  ...  K_BA  K_BC  \\\n",
       "0  0.01  1.0  0.0  4.0  0.001   0.1  5.0   0.5   0.5   0.5  ...  10.0   0.5   \n",
       "1  0.01  1.0  0.0  4.0  0.001   0.1  5.0   0.5   1.0   0.5  ...   0.5   0.5   \n",
       "2  0.01  1.0  0.0  4.0  0.001   0.1  5.0   0.5   1.0   1.0  ...   0.5   0.5   \n",
       "3  0.01  1.0  0.0  4.0  0.001   0.1  5.0   0.5   1.0   1.0  ...   1.0   0.5   \n",
       "4  0.01  1.0  0.0  4.0  0.001   0.1  5.0   0.5   0.5   1.0  ...   0.5   0.5   \n",
       "\n",
       "    b_C   mu_C    V_C  K_CB  K_CC         A          B         C  \n",
       "0   0.1    0.5    0.5   1.0   0.5  0.518949  26.823553  0.200000  \n",
       "1  20.0  100.0  100.0  10.0   0.5  0.403373   1.231664  0.200468  \n",
       "2   0.1    0.5   20.0  20.0   1.0  0.377202   1.192112  0.201954  \n",
       "3   0.1    0.5   10.0   5.0   1.0  0.388113   2.418637  0.200057  \n",
       "4   1.0    5.0  100.0  50.0   1.0  0.160812   0.629342  0.211336  \n",
       "\n",
       "[5 rows x 23 columns]"
      ]
     },
     "execution_count": 1,
     "metadata": {},
     "output_type": "execute_result"
    }
   ],
   "source": [
    "import pandas as pd\n",
    "\n",
    "df_parameters = pd.read_csv(\"./Turing_parameters.csv\")\n",
    "# Showing the top 5 rows\n",
    "df_parameters.head()"
   ]
  },
  {
   "cell_type": "markdown",
   "metadata": {},
   "source": [
    "The parameters on, say row``=index``, can be parsed as follows"
   ]
  },
  {
   "cell_type": "code",
   "execution_count": 2,
   "metadata": {
    "ExecuteTime": {
     "end_time": "2024-01-17T13:12:09.118871Z",
     "start_time": "2024-01-17T13:12:09.111362Z"
    }
   },
   "outputs": [],
   "source": [
    "index = 0\n",
    "(D_A, D_B, D_C, \n",
    " n,\n",
    " b_A, mu_A, V_A, K_AA, K_AB, K_AC,\n",
    " b_B, mu_B, V_B, K_BA, K_BC,\n",
    " b_C, mu_C, V_C, K_CB, K_CC,\n",
    " A_star, B_star, C_star) = df_parameters.iloc[index]"
   ]
  },
  {
   "cell_type": "markdown",
   "metadata": {},
   "source": [
    "And finally, you can create the **Kinetic** function by providing the dataframe and the row index using the following code. Note that the ``create_kinetics`` is a higher-order function in Python, which returns a function."
   ]
  },
  {
   "cell_type": "code",
   "execution_count": 3,
   "metadata": {
    "ExecuteTime": {
     "end_time": "2024-01-17T13:12:11.019452Z",
     "start_time": "2024-01-17T13:12:11.007935Z"
    }
   },
   "outputs": [],
   "source": [
    "def act(x, K, n):\n",
    "    \"\"\"Activation\"\"\"\n",
    "    return x**n / (x**n + K**n)\n",
    "\n",
    "\n",
    "def inh(x, K, n):\n",
    "    \"\"\"Inhibition\"\"\"\n",
    "    return K**n / (K**n + x** n)\n",
    "\n",
    "def create_kinetics(df, index):\n",
    "    (_, _, _, \n",
    "    n,\n",
    "    b_A, mu_A, V_A, K_AA, K_AB, K_AC,\n",
    "    b_B, mu_B, V_B, K_BA, K_BC,\n",
    "    b_C, mu_C, V_C, K_CB, K_CC,\n",
    "    _, _, _) = df.iloc[index]\n",
    "    def kinetics(A, B, C):\n",
    "        fA_v = b_A + V_A * act(A, K_AA, n) * inh(B, K_BA, n) - mu_A * A\n",
    "        fB_v = b_B + V_B * act(A, K_AB, n) * inh(C, K_CB, n) - mu_B * B\n",
    "        fC_v = b_C + V_C * inh(A, K_AC, n) * inh(B, K_BC, n) * act(C, K_CC, n) - mu_C * C\n",
    "        return (fA_v, fB_v, fC_v)\n",
    "    return kinetics\n"
   ]
  },
  {
   "cell_type": "markdown",
   "metadata": {},
   "source": [
    "For example, to create a kinetic function for the parameter in the first row, we do the following:"
   ]
  },
  {
   "cell_type": "code",
   "execution_count": 4,
   "metadata": {
    "ExecuteTime": {
     "end_time": "2024-01-17T13:12:13.069145Z",
     "start_time": "2024-01-17T13:12:13.063221Z"
    }
   },
   "outputs": [],
   "source": [
    "kinetic =  create_kinetics(df_parameters, index=0)"
   ]
  },
  {
   "cell_type": "markdown",
   "metadata": {},
   "source": [
    "To check the steady state solutions, see the followings:"
   ]
  },
  {
   "cell_type": "code",
   "execution_count": 5,
   "metadata": {
    "ExecuteTime": {
     "end_time": "2024-01-17T13:12:14.471628Z",
     "start_time": "2024-01-17T13:12:14.463309Z"
    }
   },
   "outputs": [
    {
     "name": "stdout",
     "output_type": "stream",
     "text": [
      "A:0.5189, B:26.8236, C:0.5189\n",
      "kinetics: (-1.3436546320022558e-10, -2.209541438702445e-09, 0.0)\n"
     ]
    }
   ],
   "source": [
    "A_star, B_star, C_star = df_parameters.iloc[0][\"A\"], df_parameters.iloc[0][\"B\"], df_parameters.iloc[0][\"C\"]\n",
    "print(f\"A:{A_star:.4f}, B:{B_star:.4f}, C:{A_star:.4f}\")\n",
    "print(f\"kinetics: {kinetic(A_star, B_star, C_star)}\")"
   ]
  },
  {
   "cell_type": "code",
   "execution_count": null,
   "metadata": {},
   "outputs": [],
   "source": []
  }
 ],
 "metadata": {
  "hide_input": false,
  "kernelspec": {
   "display_name": "Python 3 (ipykernel)",
   "language": "python",
   "name": "python3"
  },
  "language_info": {
   "codemirror_mode": {
    "name": "ipython",
    "version": 3
   },
   "file_extension": ".py",
   "mimetype": "text/x-python",
   "name": "python",
   "nbconvert_exporter": "python",
   "pygments_lexer": "ipython3",
   "version": "3.11.5"
  },
  "varInspector": {
   "cols": {
    "lenName": 16,
    "lenType": 16,
    "lenVar": 40
   },
   "kernels_config": {
    "python": {
     "delete_cmd_postfix": "",
     "delete_cmd_prefix": "del ",
     "library": "var_list.py",
     "varRefreshCmd": "print(var_dic_list())"
    },
    "r": {
     "delete_cmd_postfix": ") ",
     "delete_cmd_prefix": "rm(",
     "library": "var_list.r",
     "varRefreshCmd": "cat(var_dic_list()) "
    }
   },
   "types_to_exclude": [
    "module",
    "function",
    "builtin_function_or_method",
    "instance",
    "_Feature"
   ],
   "window_display": false
  }
 },
 "nbformat": 4,
 "nbformat_minor": 2
}
